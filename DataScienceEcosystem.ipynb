{
 "cells": [
  {
   "cell_type": "markdown",
   "id": "7b22ab38-a15e-4939-868a-54abfd3a5512",
   "metadata": {},
   "source": [
    "# Data Science Tools and Ecosystem\n",
    "\n",
    "In this notebook, Data Science Tools and Ecosystem are summarized."
   ]
  },
  {
   "cell_type": "markdown",
   "id": "c3fcb4ce-fe70-4ca5-8866-9ef33db7b73c",
   "metadata": {},
   "source": [
    "<b>Objectives:\n",
    "- Python\n",
    "- R\n",
    "- SQL\n",
    "- Scala"
   ]
  },
  {
   "cell_type": "markdown",
   "id": "aac0246d-ab4f-4949-bb0e-aa1277c51ef1",
   "metadata": {},
   "source": [
    "Some of the popular languages that Data Scientists use are:\n",
    "1. Python\n",
    "2. R\n",
    "3. SQL\n",
    "4. Java"
   ]
  },
  {
   "cell_type": "markdown",
   "id": "5ecf55d3-2c27-45b5-9d81-7f261d8e6bba",
   "metadata": {},
   "source": [
    "Some of the commonly used libraries used by Data Scientists include:\n",
    "1. Numpy\n",
    "2. Pandas\n",
    "3. SciPy"
   ]
  },
  {
   "cell_type": "markdown",
   "id": "3c80f7dd-2811-4e9f-a7df-5bdf39d1e509",
   "metadata": {},
   "source": [
    "| **Data Science Tools** |\n",
    "|--------------------|\n",
    "| Jupyter Notebook |\n",
    "| RStudio |\n",
    "| Apache Zeppelin |\n",
    " \n"
   ]
  },
  {
   "cell_type": "markdown",
   "id": "8f4fdcc3-beec-4223-a799-820ca9c2632c",
   "metadata": {},
   "source": [
    "### Below are a few examples of evaluating arithmetic expressions in Python"
   ]
  },
  {
   "cell_type": "code",
   "execution_count": 2,
   "id": "2256710e-f5a5-4ad3-a2a9-d3767f56f6ba",
   "metadata": {},
   "outputs": [
    {
     "data": {
      "text/plain": [
       "17"
      ]
     },
     "execution_count": 2,
     "metadata": {},
     "output_type": "execute_result"
    }
   ],
   "source": [
    "#This a simple arithmetic expression to mutiply then add integers\n",
    "(3*4)+5\n"
   ]
  },
  {
   "cell_type": "code",
   "execution_count": 4,
   "id": "4d894672-a639-48cd-8518-af0b69d70851",
   "metadata": {},
   "outputs": [
    {
     "data": {
      "text/plain": [
       "3.3333333333333335"
      ]
     },
     "execution_count": 4,
     "metadata": {},
     "output_type": "execute_result"
    }
   ],
   "source": [
    "#This will convert 200 minutes to hours by diving by 60\n",
    "200/60"
   ]
  },
  {
   "cell_type": "markdown",
   "id": "a91f00d3-b3ee-492b-b36e-3cc340b636c2",
   "metadata": {},
   "source": [
    "## Author\n",
    "Nicolas"
   ]
  },
  {
   "cell_type": "code",
   "execution_count": null,
   "id": "9d081b1e-30ef-48df-b7f0-ccc01be274a4",
   "metadata": {},
   "outputs": [],
   "source": []
  }
 ],
 "metadata": {
  "kernelspec": {
   "display_name": "Python 3 (ipykernel)",
   "language": "python",
   "name": "python3"
  },
  "language_info": {
   "codemirror_mode": {
    "name": "ipython",
    "version": 3
   },
   "file_extension": ".py",
   "mimetype": "text/x-python",
   "name": "python",
   "nbconvert_exporter": "python",
   "pygments_lexer": "ipython3",
   "version": "3.13.5"
  }
 },
 "nbformat": 4,
 "nbformat_minor": 5
}
